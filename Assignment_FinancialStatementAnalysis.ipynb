{
 "cells": [
  {
   "cell_type": "code",
   "execution_count": 1,
   "metadata": {},
   "outputs": [],
   "source": [
    "#Data \n",
    "revenue = [14574.49, 7606.46, 8611.41, 9175.41, 8058.65, 8105.44, 11496.28, 9766.09, 10305.32, 14379.96, 10713.97, 15433.50]\n",
    "expenses = [12051.82, 5695.07, 12319.20, 12089.72, 8658.57, 840.20, 3285.73, 5821.12, 6976.93, 16618.61, 10054.37, 3803.96]"
   ]
  },
  {
   "cell_type": "code",
   "execution_count": 2,
   "metadata": {},
   "outputs": [
    {
     "data": {
      "text/plain": [
       "[14574.49,\n",
       " 7606.46,\n",
       " 8611.41,\n",
       " 9175.41,\n",
       " 8058.65,\n",
       " 8105.44,\n",
       " 11496.28,\n",
       " 9766.09,\n",
       " 10305.32,\n",
       " 14379.96,\n",
       " 10713.97,\n",
       " 15433.5]"
      ]
     },
     "execution_count": 2,
     "metadata": {},
     "output_type": "execute_result"
    }
   ],
   "source": [
    "revenue"
   ]
  },
  {
   "cell_type": "code",
   "execution_count": 4,
   "metadata": {},
   "outputs": [
    {
     "data": {
      "text/plain": [
       "[2522.67,\n",
       " 1911.3900000000003,\n",
       " -3707.790000000001,\n",
       " -2914.3099999999995,\n",
       " -599.9200000000001,\n",
       " 7265.24,\n",
       " 8210.550000000001,\n",
       " 3944.9700000000003,\n",
       " 3328.3899999999994,\n",
       " -2238.6500000000015,\n",
       " 659.5999999999985,\n",
       " 11629.54]"
      ]
     },
     "execution_count": 4,
     "metadata": {},
     "output_type": "execute_result"
    }
   ],
   "source": [
    "profit = []\n",
    "for i in range(0,len(revenue)):\n",
    "    profit.append(revenue[i]-expenses[i])\n",
    "profit"
   ]
  },
  {
   "cell_type": "code",
   "execution_count": 17,
   "metadata": {},
   "outputs": [
    {
     "data": {
      "text/plain": [
       "[1765.869,\n",
       " 1337.9730000000002,\n",
       " -2595.4530000000004,\n",
       " -2040.0169999999996,\n",
       " -419.944,\n",
       " 5085.668,\n",
       " 5747.385,\n",
       " 2761.479,\n",
       " 2329.8729999999996,\n",
       " -1567.055000000001,\n",
       " 461.71999999999895,\n",
       " 8140.678]"
      ]
     },
     "execution_count": 17,
     "metadata": {},
     "output_type": "execute_result"
    }
   ],
   "source": [
    "profit_afterTax= []\n",
    "for i in range(0,len(revenue)):\n",
    "    profit_afterTax.append(0.7*profit[i])\n",
    "profit_afterTax\n"
   ]
  },
  {
   "cell_type": "code",
   "execution_count": 23,
   "metadata": {},
   "outputs": [
    {
     "data": {
      "text/plain": [
       "[1765.869,\n",
       " 1337.9730000000002,\n",
       " -2595.4530000000004,\n",
       " -2040.0169999999996,\n",
       " -419.944,\n",
       " 5085.668,\n",
       " 5747.385,\n",
       " 2761.479,\n",
       " 2329.8729999999996,\n",
       " -1567.055000000001,\n",
       " 461.71999999999895,\n",
       " 8140.678]"
      ]
     },
     "execution_count": 23,
     "metadata": {},
     "output_type": "execute_result"
    }
   ],
   "source": [
    "profit_afterTax=[0.7*i for i in profit]\n",
    "profit_afterTax"
   ]
  },
  {
   "cell_type": "code",
   "execution_count": 7,
   "metadata": {},
   "outputs": [
    {
     "data": {
      "text/plain": [
       "12"
      ]
     },
     "execution_count": 7,
     "metadata": {},
     "output_type": "execute_result"
    }
   ],
   "source": [
    "len(profit)"
   ]
  },
  {
   "cell_type": "code",
   "execution_count": 15,
   "metadata": {},
   "outputs": [
    {
     "data": {
      "text/plain": [
       "[0.12116163241389578,\n",
       " 0.1758995643176984,\n",
       " -0.3013969837692086,\n",
       " -0.2223352416949215,\n",
       " -0.05211096151340486,\n",
       " 0.6274388558795081,\n",
       " 0.49993432658216397,\n",
       " 0.2827619856052934,\n",
       " 0.2260844884001661,\n",
       " -0.10897492065346503,\n",
       " 0.04309513653668985,\n",
       " 0.5274680403019406]"
      ]
     },
     "execution_count": 15,
     "metadata": {},
     "output_type": "execute_result"
    }
   ],
   "source": [
    "profitMargin=[]\n",
    "for i in range(0,12):\n",
    "    profitMargin.append(profit_afterTax[i]/revenue[i])\n",
    "profitMargin\n"
   ]
  },
  {
   "cell_type": "code",
   "execution_count": 16,
   "metadata": {},
   "outputs": [
    {
     "data": {
      "text/plain": [
       "[1765.869,\n",
       " 1337.9730000000002,\n",
       " -2595.4530000000004,\n",
       " -2040.0169999999996,\n",
       " -419.944,\n",
       " 5085.668,\n",
       " 5747.385,\n",
       " 2761.479,\n",
       " 2329.8729999999996,\n",
       " -1567.055000000001,\n",
       " 461.71999999999895,\n",
       " 8140.678]"
      ]
     },
     "execution_count": 16,
     "metadata": {},
     "output_type": "execute_result"
    }
   ],
   "source": [
    "profit_afterTax"
   ]
  },
  {
   "cell_type": "code",
   "execution_count": 45,
   "metadata": {},
   "outputs": [
    {
     "name": "stdout",
     "output_type": "stream",
     "text": [
      "mean: 1750.6813333333332\n",
      "1\n",
      "6\n",
      "7\n",
      "8\n",
      "9\n",
      "12\n"
     ]
    }
   ],
   "source": [
    "import numpy as np\n",
    "month_counter=1\n",
    "print('mean:',np.mean(profit_afterTax))\n",
    "for i in profit_afterTax:\n",
    "    if i > np.mean(profit_afterTax):\n",
    "        print(month_counter)\n",
    "    month_counter=month_counter+1\n",
    "\n",
    "    "
   ]
  },
  {
   "cell_type": "code",
   "execution_count": 37,
   "metadata": {},
   "outputs": [
    {
     "data": {
      "text/plain": [
       "1750.6813333333332"
      ]
     },
     "execution_count": 37,
     "metadata": {},
     "output_type": "execute_result"
    }
   ],
   "source": [
    "meanProfitAfterTax"
   ]
  },
  {
   "cell_type": "code",
   "execution_count": 47,
   "metadata": {},
   "outputs": [
    {
     "name": "stdout",
     "output_type": "stream",
     "text": [
      "Bad Months\n",
      "2\n",
      "3\n",
      "4\n",
      "5\n",
      "10\n",
      "11\n"
     ]
    }
   ],
   "source": [
    "month_counter=1\n",
    "print(\"Bad Months\")\n",
    "for i in profit_afterTax:\n",
    "    if i < np.mean(profit_afterTax):\n",
    "        print(month_counter)\n",
    "    month_counter=month_counter+1"
   ]
  },
  {
   "cell_type": "code",
   "execution_count": 52,
   "metadata": {},
   "outputs": [
    {
     "name": "stdout",
     "output_type": "stream",
     "text": [
      "best month\n",
      "8141.0\n"
     ]
    }
   ],
   "source": [
    "print(\"best month\")\n",
    "print(round(np.max(profit_afterTax)))"
   ]
  },
  {
   "cell_type": "code",
   "execution_count": 51,
   "metadata": {},
   "outputs": [
    {
     "name": "stdout",
     "output_type": "stream",
     "text": [
      "worst month\n",
      "-2595.0\n"
     ]
    }
   ],
   "source": [
    "print(\"worst month\")\n",
    "print(round(np.min(profit_afterTax)))"
   ]
  },
  {
   "cell_type": "code",
   "execution_count": null,
   "metadata": {},
   "outputs": [],
   "source": []
  }
 ],
 "metadata": {
  "kernelspec": {
   "display_name": "Python 3",
   "language": "python",
   "name": "python3"
  },
  "language_info": {
   "codemirror_mode": {
    "name": "ipython",
    "version": 3
   },
   "file_extension": ".py",
   "mimetype": "text/x-python",
   "name": "python",
   "nbconvert_exporter": "python",
   "pygments_lexer": "ipython3",
   "version": "3.6.5"
  }
 },
 "nbformat": 4,
 "nbformat_minor": 1
}
